{
 "cells": [
  {
   "cell_type": "code",
   "execution_count": 1,
   "metadata": {},
   "outputs": [],
   "source": [
    "import os\n",
    "os.chdir('..')\n",
    "%load_ext autoreload\n",
    "%autoreload 2\n",
    "\n",
    "from stanley_appex.estimation import *\n",
    "from stanley_appex.plotting import *\n",
    "from stanley_appex.utils import *\n",
    "from stanley_appex.generate_data import *\n",
    "import numpy as np\n",
    "import matplotlib.pyplot as plt\n",
    "import uuid"
   ]
  },
  {
   "cell_type": "code",
   "execution_count": 2,
   "metadata": {},
   "outputs": [
    {
     "name": "stdout",
     "output_type": "stream",
     "text": [
      "15000\n",
      "(250, 15000, 5)\n",
      "Data saved to data/comparison2/29f19178-2870-11f0-b12f-5e4e2ac260d2.h5\n",
      "15000\n",
      "(250, 15000, 5)\n",
      "Data saved to data/comparison2/67203620-2871-11f0-b12f-5e4e2ac260d2.h5\n",
      "15000\n",
      "(250, 15000, 5)\n",
      "Data saved to data/comparison2/9b895bfc-2872-11f0-b12f-5e4e2ac260d2.h5\n",
      "15000\n",
      "(250, 15000, 5)\n",
      "Data saved to data/comparison2/d400526e-2873-11f0-b12f-5e4e2ac260d2.h5\n",
      "15000\n",
      "(250, 15000, 5)\n",
      "Data saved to data/comparison2/1dd67a8e-2875-11f0-b12f-5e4e2ac260d2.h5\n",
      "15000\n",
      "(250, 15000, 5)\n",
      "Data saved to data/comparison2/8710ee70-2876-11f0-b12f-5e4e2ac260d2.h5\n",
      "15000\n",
      "(250, 15000, 5)\n",
      "Data saved to data/comparison2/cb159c50-2877-11f0-b12f-5e4e2ac260d2.h5\n",
      "15000\n",
      "(250, 15000, 5)\n",
      "Data saved to data/comparison2/a3508990-2878-11f0-b12f-5e4e2ac260d2.h5\n",
      "15000\n",
      "(250, 15000, 5)\n",
      "Data saved to data/comparison2/7b3acb7c-2879-11f0-b12f-5e4e2ac260d2.h5\n",
      "15000\n",
      "(250, 15000, 5)\n",
      "Data saved to data/comparison2/4d888d08-287a-11f0-b12f-5e4e2ac260d2.h5\n",
      "15000\n",
      "(250, 15000, 5)\n",
      "Data saved to data/comparison2/20531654-287b-11f0-b12f-5e4e2ac260d2.h5\n",
      "15000\n",
      "(250, 15000, 5)\n",
      "Data saved to data/comparison2/f4825da4-287b-11f0-b12f-5e4e2ac260d2.h5\n"
     ]
    }
   ],
   "source": [
    "def generate_A(d, scale=0.5, n_matrices=50, p_zero=0.7):\n",
    "    p_other = (1-p_zero)/2\n",
    "    A = 0.5*np.random.choice([-1, 0, 1], p=[p_other, p_zero, p_other],size=(n_matrices, d, d))\n",
    "    return [A[i, :, :].tolist() for i in range(A.shape[0])]\n",
    "\n",
    "n_matrices = 3\n",
    "As = generate_A(d=5, n_matrices=n_matrices) # generate_A(d=2, n_matrices=n_matrices, p_zero=0.1) + generate_A(d=10, n_matrices=n_matrices) + generate_A(d=10, n_matrices=n_matrices) + generate_A(d=20, n_matrices=n_matrices)\n",
    "noise_strengths = [0.05, 0.1, 0.5, 1.0]\n",
    "# Gs = [noise_strength * np.eye(len(A)) for A in As for noise_strength in noise_strengths]\n",
    "Nt = 15000\n",
    "dt = 0.0001\n",
    "Ninit = 250\n",
    "for A in As:\n",
    "    for noise_strength in noise_strengths:\n",
    "        G = noise_strength * np.eye(len(A))\n",
    "        process = BranchingStochasticProcess(np.array(A), np.array(G), dt=dt, Nt=Nt, N_traj=Ninit)\n",
    "        X0 = np.random.multivariate_normal(np.zeros(process.d), np.diag(np.ones(process.d)), process.N_traj) # np.random.normal(0, 1, (N_init, A.shape[1]))\n",
    "        process.simulate(X0, growth_rate=0.0)\n",
    "        process.save_file(f'data/comparison2/{str(uuid.uuid1())}.h5'.format())"
   ]
  },
  {
   "cell_type": "code",
   "execution_count": null,
   "metadata": {},
   "outputs": [],
   "source": []
  },
  {
   "cell_type": "code",
   "execution_count": 83,
   "metadata": {},
   "outputs": [
    {
     "data": {
      "text/plain": [
       "'/Users/stanleynicholson/code/Bjorn/Optimal Transport/OTProject/trajectory_inference/src'"
      ]
     },
     "execution_count": 83,
     "metadata": {},
     "output_type": "execute_result"
    }
   ],
   "source": [
    "os.getcwd()"
   ]
  }
 ],
 "metadata": {
  "kernelspec": {
   "display_name": "Python 3",
   "language": "python",
   "name": "python3"
  },
  "language_info": {
   "codemirror_mode": {
    "name": "ipython",
    "version": 3
   },
   "file_extension": ".py",
   "mimetype": "text/x-python",
   "name": "python",
   "nbconvert_exporter": "python",
   "pygments_lexer": "ipython3",
   "version": "3.10.12"
  }
 },
 "nbformat": 4,
 "nbformat_minor": 2
}
