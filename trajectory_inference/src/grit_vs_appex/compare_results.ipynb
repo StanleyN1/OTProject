{
 "cells": [
  {
   "cell_type": "code",
   "execution_count": 1,
   "metadata": {},
   "outputs": [],
   "source": [
    "import os\n",
    "os.chdir('..')\n",
    "%load_ext autoreload\n",
    "%autoreload 2\n",
    "\n",
    "from stanley_appex.estimation import *\n",
    "from stanley_appex.plotting import *\n",
    "from stanley_appex.utils import *\n",
    "from stanley_appex.generate_data import *\n",
    "import numpy as np\n",
    "import matplotlib.pyplot as plt"
   ]
  },
  {
   "cell_type": "code",
   "execution_count": 68,
   "metadata": {},
   "outputs": [
    {
     "name": "stdout",
     "output_type": "stream",
     "text": [
      "60\n"
     ]
    }
   ],
   "source": [
    "files = [os.path.join('data/comparison', folder) for folder in os.listdir('data/comparison')]\n",
    "print(len(files))"
   ]
  },
  {
   "cell_type": "code",
   "execution_count": null,
   "metadata": {},
   "outputs": [
    {
     "name": "stdout",
     "output_type": "stream",
     "text": [
      "15000\n",
      "N traj 250 N time steps 15\n",
      "iteration 0, running tolerance 10.0\n"
     ]
    }
   ],
   "source": [
    "process = BranchingStochasticProcess()\n",
    "process.load_data(files[0])\n",
    "process.run_appex(downsample_rate=1000)\n",
    "plt.plot(process.A_error)"
   ]
  },
  {
   "cell_type": "code",
   "execution_count": null,
   "metadata": {},
   "outputs": [],
   "source": [
    "noise_strengths = [0.05, 0.1, 0.5, 1.0]\n",
    "dims = [2, 5, 10, 20]\n",
    "maxiters = 10\n",
    "downsample_rate = 500\n",
    "N_sample = 2*process.N_traj\n",
    "A_errors = np.zeros((len(noise_strengths), len(dims), maxiters + 2))\n",
    "H_errors = np.zeros((len(noise_strengths), len(dims), maxiters + 2))\n",
    "results = {}"
   ]
  },
  {
   "cell_type": "code",
   "execution_count": 74,
   "metadata": {},
   "outputs": [
    {
     "name": "stdout",
     "output_type": "stream",
     "text": [
      "15000\n",
      "N traj 250 N time steps 30\n",
      "iteration 0, running tolerance 5.0\n",
      "iteration 1, running tolerance 1.0965075104656121\n",
      "iteration 2, running tolerance 0.03334112317858406\n",
      "iteration 3, running tolerance 0.028824208466866716\n",
      "iteration 4, running tolerance 0.025585512752954138\n",
      "iteration 5, running tolerance 0.030921014646454276\n",
      "iteration 6, running tolerance 0.019129822630844694\n",
      "iteration 7, running tolerance 0.03329933536608481\n",
      "iteration 8, running tolerance 0.02135766042575631\n",
      "iteration 9, running tolerance 0.022702715305519882\n",
      "15000\n",
      "N traj 250 N time steps 30\n",
      "iteration 0, running tolerance 5.0\n",
      "iteration 1, running tolerance 1.2624951051932054\n",
      "iteration 2, running tolerance 0.02221143991389323\n",
      "iteration 3, running tolerance 0.03187271136304275\n",
      "iteration 4, running tolerance 0.026944028607484412\n",
      "iteration 5, running tolerance 0.02496955477144584\n",
      "iteration 6, running tolerance 0.028811833136359363\n",
      "iteration 7, running tolerance 0.023545574240487418\n",
      "iteration 8, running tolerance 0.019061268420768506\n",
      "iteration 9, running tolerance 0.02590870735888354\n",
      "15000\n",
      "N traj 250 N time steps 30\n",
      "iteration 0, running tolerance 5.0\n",
      "iteration 1, running tolerance 1.1126589686184507\n",
      "iteration 2, running tolerance 0.12611819395726226\n",
      "iteration 3, running tolerance 0.13434849812580188\n",
      "iteration 4, running tolerance 0.14780014190034182\n",
      "iteration 5, running tolerance 0.12494200473068061\n",
      "iteration 6, running tolerance 0.09700631213826488\n",
      "iteration 7, running tolerance 0.07483351130035601\n",
      "iteration 8, running tolerance 0.13339188052635456\n",
      "iteration 9, running tolerance 0.12499659489063498\n",
      "15000\n",
      "N traj 250 N time steps 30\n",
      "iteration 0, running tolerance 5.0\n",
      "iteration 1, running tolerance 1.2628717014062616\n",
      "iteration 2, running tolerance 0.019168301702659922\n",
      "iteration 3, running tolerance 0.010114297493583647\n",
      "iteration 4, running tolerance 0.015052469678037366\n",
      "iteration 5, running tolerance 0.01614709350647657\n",
      "iteration 6, running tolerance 0.018858675837186555\n",
      "iteration 7, running tolerance 0.01446251839667668\n",
      "iteration 8, running tolerance 0.01711288360686464\n",
      "iteration 9, running tolerance 0.009983850558280702\n",
      "15000\n",
      "N traj 250 N time steps 30\n",
      "iteration 0, running tolerance 5.0\n",
      "iteration 1, running tolerance 1.0974037539690302\n",
      "iteration 2, running tolerance 0.022807468179684605\n",
      "iteration 3, running tolerance 0.01484963277326937\n",
      "iteration 4, running tolerance 0.016284288447690722\n",
      "iteration 5, running tolerance 0.01416627757387629\n",
      "iteration 6, running tolerance 0.013615513754583246\n",
      "iteration 7, running tolerance 0.010265144538153593\n",
      "iteration 8, running tolerance 0.0132331881028488\n",
      "iteration 9, running tolerance 0.011774672600343431\n",
      "15000\n",
      "N traj 250 N time steps 30\n",
      "iteration 0, running tolerance 5.0\n",
      "iteration 1, running tolerance 1.1044205128418516\n",
      "iteration 2, running tolerance 0.23133995528413429\n",
      "iteration 3, running tolerance 0.15212272011323358\n",
      "iteration 4, running tolerance 0.18138290180821132\n",
      "iteration 5, running tolerance 0.20200364305745744\n",
      "iteration 6, running tolerance 0.21504365697511407\n",
      "iteration 7, running tolerance 0.2794301578525637\n",
      "iteration 8, running tolerance 0.24041327959365436\n",
      "iteration 9, running tolerance 0.1641343404563876\n",
      "15000\n",
      "N traj 250 N time steps 30\n",
      "iteration 0, running tolerance 5.0\n",
      "iteration 1, running tolerance 1.26180726981673\n",
      "iteration 2, running tolerance 0.1928267298348723\n",
      "iteration 3, running tolerance 0.14549138229050732\n",
      "iteration 4, running tolerance 0.15558217507821767\n",
      "iteration 5, running tolerance 0.1684970135133951\n",
      "iteration 6, running tolerance 0.17195889452598914\n",
      "iteration 7, running tolerance 0.1840424291998411\n",
      "iteration 8, running tolerance 0.2221516170481914\n",
      "iteration 9, running tolerance 0.15918523126006842\n",
      "15000\n",
      "N traj 250 N time steps 30\n",
      "iteration 0, running tolerance 5.0\n",
      "iteration 1, running tolerance 1.0853279923097519\n",
      "iteration 2, running tolerance 0.04310960300651668\n",
      "iteration 3, running tolerance 0.032881536794840384\n",
      "iteration 4, running tolerance 0.025688050611608858\n",
      "iteration 5, running tolerance 0.025877324232063324\n",
      "iteration 6, running tolerance 0.032708352074712975\n",
      "iteration 7, running tolerance 0.02739969608528427\n",
      "iteration 8, running tolerance 0.02691277530452573\n",
      "iteration 9, running tolerance 0.01668628957913523\n",
      "15000\n",
      "N traj 250 N time steps 30\n",
      "iteration 0, running tolerance 5.0\n",
      "iteration 1, running tolerance 1.1140051500585493\n",
      "iteration 2, running tolerance 0.22124667245976049\n",
      "iteration 3, running tolerance 0.20024612690916951\n",
      "iteration 4, running tolerance 0.19682473679841028\n",
      "iteration 5, running tolerance 0.20224597793020085\n",
      "iteration 6, running tolerance 0.2324996694513023\n",
      "iteration 7, running tolerance 0.20017508088505237\n",
      "iteration 8, running tolerance 0.20491615107216207\n",
      "iteration 9, running tolerance 0.23352729526220695\n",
      "15000\n",
      "N traj 250 N time steps 30\n",
      "iteration 0, running tolerance 5.0\n",
      "iteration 1, running tolerance 1.0519498570834231\n",
      "iteration 2, running tolerance 0.09327522655109839\n",
      "iteration 3, running tolerance 0.09544727642082981\n",
      "iteration 4, running tolerance 0.11158590420356061\n",
      "iteration 5, running tolerance 0.12090221546123224\n",
      "iteration 6, running tolerance 0.10225573428262244\n",
      "iteration 7, running tolerance 0.10585049956489868\n",
      "iteration 8, running tolerance 0.09947534812336278\n",
      "iteration 9, running tolerance 0.10367662751476754\n",
      "15000\n",
      "N traj 250 N time steps 30\n",
      "iteration 0, running tolerance 5.0\n",
      "iteration 1, running tolerance 1.2402567660581172\n",
      "iteration 2, running tolerance 0.13295512566074233\n",
      "iteration 3, running tolerance 0.10435898558000471\n",
      "iteration 4, running tolerance 0.12305661435677152\n",
      "iteration 5, running tolerance 0.11888053910227221\n",
      "iteration 6, running tolerance 0.13843726396129333\n",
      "iteration 7, running tolerance 0.13607340369447363\n",
      "iteration 8, running tolerance 0.0944651628537377\n",
      "iteration 9, running tolerance 0.08139325369938778\n",
      "15000\n",
      "N traj 250 N time steps 30\n",
      "iteration 0, running tolerance 5.0\n",
      "iteration 1, running tolerance 1.0792815345116114\n",
      "iteration 2, running tolerance 0.023413377405414677\n",
      "iteration 3, running tolerance 0.012195757488339678\n",
      "iteration 4, running tolerance 0.010668195593577427\n",
      "iteration 5, running tolerance 0.013496606212508533\n",
      "iteration 6, running tolerance 0.015507066830199276\n",
      "iteration 7, running tolerance 0.014402687894101318\n",
      "iteration 8, running tolerance 0.01578347334634512\n",
      "iteration 9, running tolerance 0.01512975212062329\n"
     ]
    }
   ],
   "source": [
    "for file in files:\n",
    "    if file in results.keys():\n",
    "        continue\n",
    "    process = BranchingStochasticProcess()\n",
    "    process.load_data(file)\n",
    "    process.run_appex(downsample_rate=downsample_rate, maxiters=maxiters, print_out=1, N_sample=N_sample)\n",
    "    i = noise_strengths.index(process.G[0, 0])\n",
    "    j = dims.index(process.d)\n",
    "    A_errors[i, j, :] = process.A_error\n",
    "    H_errors[i, j, :] = process.A_error\n",
    "    np.save('grit_vs_appex/APPEX_A_errors.npy', A_errors)\n",
    "    np.save('grit_vs_appex/APPEX_H_errors.npy', H_errors)\n",
    "    results[file] = {\n",
    "        'A_error': process.A_error[-1],\n",
    "        'H_error': process.H_error[-1],\n",
    "        'A': process.A,\n",
    "        'G': process.G,\n",
    "        'A_est': process.A_est,\n",
    "        'H_est': process.H_est,\n",
    "        'd': process.d,\n",
    "        'noise_strength': process.G[0, 0],\n",
    "        'maxiters': maxiters,\n",
    "        'N_sample': N_sample,\n",
    "        'N_traj': process.N_traj,\n",
    "        'downsample_rate': downsample_rate\n",
    "    }\n"
   ]
  },
  {
   "cell_type": "code",
   "execution_count": 36,
   "metadata": {},
   "outputs": [],
   "source": [
    "np.save('grit_vs_appex/APPEX_A_errors_final.npy', A_errors)\n",
    "np.save('grit_vs_appex/APPEX_H_errors_final.npy', H_errors)"
   ]
  },
  {
   "cell_type": "code",
   "execution_count": 76,
   "metadata": {},
   "outputs": [],
   "source": [
    "rdict = {}\n",
    "for file, result in results.items():\n",
    "    rdict[file] = {\n",
    "        'A_error': result['A_error'].astype(float),\n",
    "        'H_error': result['H_error'].astype(float),\n",
    "        'A': result['A'].tolist(),\n",
    "        'G': result['G'].tolist(),\n",
    "        'A_est': result['A_est'].tolist(),\n",
    "        'H_est': result['H_est'].tolist(),\n",
    "        'd': int(result['d']),\n",
    "        'noise_strength': result['noise_strength'].astype(float),\n",
    "        'maxiters': int(result['maxiters']),\n",
    "        'N_sample': int(result['N_sample']),\n",
    "        'N_traj': int(result['N_traj']),\n",
    "        'downsample_rate': int(result['downsample_rate'])\n",
    "    }"
   ]
  },
  {
   "cell_type": "code",
   "execution_count": 77,
   "metadata": {},
   "outputs": [],
   "source": [
    "import json\n",
    "file_path = \"grit_vs_appex/results2.json\"\n",
    "with open(file_path, 'w') as json_file:\n",
    "    json.dump(rdict, json_file)"
   ]
  },
  {
   "cell_type": "code",
   "execution_count": 52,
   "metadata": {},
   "outputs": [
    {
     "data": {
      "text/plain": [
       "<matplotlib.colorbar.Colorbar at 0x3bc94ab30>"
      ]
     },
     "execution_count": 52,
     "metadata": {},
     "output_type": "execute_result"
    },
    {
     "data": {
      "image/png": "[encoded data removed]",
      "text/plain": [
       "<Figure size 640x480 with 2 Axes>"
      ]
     },
     "metadata": {},
     "output_type": "display_data"
    }
   ],
   "source": [
    "plt.imshow(A_errors[:, :, -1], aspect='auto', cmap='hot')\n",
    "plt.xticks(range(len(dims)), dims)\n",
    "plt.colorbar()"
   ]
  },
  {
   "cell_type": "code",
   "execution_count": null,
   "metadata": {},
   "outputs": [],
   "source": []
  }
 ],
 "metadata": {
  "kernelspec": {
   "display_name": "Python 3",
   "language": "python",
   "name": "python3"
  },
  "language_info": {
   "codemirror_mode": {
    "name": "ipython",
    "version": 3
   },
   "file_extension": ".py",
   "mimetype": "text/x-python",
   "name": "python",
   "nbconvert_exporter": "python",
   "pygments_lexer": "ipython3",
   "version": "3.10.12"
  }
 },
 "nbformat": 4,
 "nbformat_minor": 2
}
