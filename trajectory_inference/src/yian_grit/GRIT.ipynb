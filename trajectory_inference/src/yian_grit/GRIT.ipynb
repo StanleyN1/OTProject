{
 "cells": [
  {
   "cell_type": "code",
   "execution_count": 23,
   "id": "7884d171",
   "metadata": {
    "ExecuteTime": {
     "end_time": "2025-03-28T16:32:27.547465Z",
     "start_time": "2025-03-28T16:32:21.826095Z"
    }
   },
   "outputs": [],
   "source": [
    "import numpy as np\n",
    "import ot\n",
    "from scipy.linalg import lstsq\n",
    "import matplotlib.pyplot as plt\n",
    "from sklearn.linear_model import Ridge\n",
    "import h5py"
   ]
  },
  {
   "cell_type": "markdown",
   "id": "a05e0dcc",
   "metadata": {},
   "source": [
    "## GRIT Algorithm"
   ]
  },
  {
   "cell_type": "code",
   "execution_count": 2,
   "id": "32b2bdba",
   "metadata": {
    "ExecuteTime": {
     "end_time": "2025-03-27T04:10:04.487974Z",
     "start_time": "2025-03-27T04:10:04.485465Z"
    },
    "code_folding": [
     0
    ]
   },
   "outputs": [],
   "source": [
    "def compute_regression_row(YY, XX, D, jg):\n",
    "    \"\"\"\n",
    "    Compute the regression coefficients for a single gene (jg) using weighted ridge regression.\n",
    "    \n",
    "    Parameters:\n",
    "    - YY: ndarray, shape (ndim, N), estimated derivatives for all genes\n",
    "    - XX: ndarray, shape (ndim + nbr, N), input data matrix\n",
    "    - D: ndarray, shape (ndim + nbr,), diagonal regularization terms\n",
    "    - jg: int, index of the current gene\n",
    "    \n",
    "    Returns:\n",
    "    - A_row: ndarray, shape (K,), regression coefficients for gene jg\n",
    "    \"\"\"\n",
    "    # Extract the row for gene jg from YY\n",
    "    Y = YY[jg, :]  # Shape: (N,)\n",
    "\n",
    "    # Extract the relevant rows of XX based on TFloc\n",
    "    X = XX[:]  # Shape: (K, N), where K is the number of True in TFloc\n",
    "\n",
    "    # Compute weighted Y * X^T\n",
    "    Y_XT = Y @ X.T  # Shape: (1, K), matrix multiplication\n",
    "\n",
    "    # Compute weighted X * X^T + regularization\n",
    "    X_XT = X @ X.T  # Shape: (K, K), matrix multiplication\n",
    "\n",
    "    # Add regularization term D (diagonal matrix)\n",
    "    X_XT_reg = X_XT + D  # Shape: (K, K)\n",
    "\n",
    "    # Solve for A by computing the inverse\n",
    "    A_row = Y_XT @ np.linalg.inv(X_XT_reg)  # Shape: (1, K)\n",
    "\n",
    "    return A_row"
   ]
  },
  {
   "cell_type": "code",
   "execution_count": 17,
   "id": "c735bb37",
   "metadata": {
    "ExecuteTime": {
     "end_time": "2025-03-27T04:16:29.961232Z",
     "start_time": "2025-03-27T04:16:29.935653Z"
    },
    "code_folding": [
     2,
     29,
     195
    ]
   },
   "outputs": [],
   "source": [
    "class GRIT:\n",
    "    # now we assume uniform time step, same number of cells and weights in the norm D = identity\n",
    "    def __init__(self, lambda_A=1.0, lambda_b=1.0, epsilon=1e-1, max_iter=10, method='sinkhorn'):\n",
    "        \"\"\"\n",
    "        Initialize GRIT algorithm parameters\n",
    "        \n",
    "        Parameters:\n",
    "        -----------\n",
    "        lambda_A : float, optional (default=1.0)\n",
    "            Regularization parameter for matrix A\n",
    "        lambda_b : float, optional (default=1.0)\n",
    "            Regularization parameter for vector b\n",
    "        epsilon : float, optional (default=1e-3)\n",
    "            Entropy regularization parameter for optimal transport\n",
    "        max_iter : int, optional (default=100)\n",
    "            Maximum number of iterations for model identification\n",
    "        \"\"\"\n",
    "        self.lambda_A = lambda_A\n",
    "        self.lambda_b = lambda_b\n",
    "        self.epsilon = epsilon\n",
    "        self.max_iter = max_iter\n",
    "        self.method = method\n",
    "        \n",
    "        # Model parameters to be learned\n",
    "        self.ntime = None\n",
    "        self.A = None\n",
    "        self.b = None\n",
    "        self.vvs = None  # To store variance weights\n",
    "        \n",
    "    def _compute_variance_weights(self, Y_list):\n",
    "        \"\"\"\n",
    "        Compute variance weights (vvs) for each gene and time transition.\n",
    "        \n",
    "        Parameters:\n",
    "        -----------\n",
    "        Y_list : list of numpy arrays\n",
    "            Gene expression matrices at different time points\n",
    "        \n",
    "        Returns:\n",
    "        --------\n",
    "        vvs : numpy array\n",
    "            Variance weights with shape (n_genes, n_transitions)\n",
    "        \"\"\"\n",
    "        n_genes = Y_list[0].shape[0]\n",
    "        n_transitions = len(Y_list) - 1\n",
    "        vvs = np.zeros((n_genes, n_transitions))\n",
    "        \n",
    "        ncell = np.array([Y.shape[1] for Y in Y_list])  # Number of cells per time point\n",
    "        \n",
    "        # Compute variance for each gene at each transition\n",
    "        for jt in range(n_transitions):\n",
    "            mtemp = np.mean(Y_list[jt + 1], axis=1)  # Mean across cells\n",
    "            mtemp[np.isnan(mtemp)] = 0\n",
    "            vvs[:, jt] = np.sum((Y_list[jt + 1] - mtemp[:, None]) ** 2, axis=1) / ncell[jt + 1]\n",
    "        \n",
    "        # Compute weighted average of variances\n",
    "        weighted_vvs = np.sum(ncell[1:] * vvs, axis=1) / np.sum(ncell[1:])\n",
    "        \n",
    "        # Scale the variances\n",
    "        vvs = 0.5 + 0.2 * weighted_vvs[:, None] + 0.8 * vvs\n",
    "        vvs = vvs ** (-0.5)\n",
    "        \n",
    "        return vvs\n",
    "\n",
    "    def OTsolver_MATLABCODE(self, mu0, mu1, C, epsilon, uInit=None):\n",
    "        \"\"\"\n",
    "        Optimal Transport solver using Sinkhorn algorithm with entropic regularization.\n",
    "\n",
    "        Parameters:\n",
    "        -----------\n",
    "        mu0 : array_like\n",
    "            Source distribution (will be reshaped to column vector)\n",
    "        mu1 : array_like\n",
    "            Target distribution (will be reshaped to column vector)\n",
    "        C : array_like\n",
    "            Cost matrix\n",
    "        epsilon : float\n",
    "            Regularization parameter\n",
    "        uInit : array_like, optional\n",
    "            Initial value for dual variable u1\n",
    "\n",
    "        Returns:\n",
    "        --------\n",
    "        transport_cost : float\n",
    "            The optimal transport cost\n",
    "        reg_cost : float\n",
    "            The regularization cost\n",
    "        M : ndarray\n",
    "            The optimal transport plan (matrix)\n",
    "        iteration_count : int\n",
    "            Number of iterations needed\n",
    "        u1 : ndarray\n",
    "            Final dual variable\n",
    "        \"\"\"\n",
    "        # Reshape distributions to column vectors\n",
    "        mu0 = np.reshape(mu0, (-1, 1))\n",
    "        mu1 = np.reshape(mu1, (-1, 1))\n",
    "        \n",
    "\n",
    "        # Check dimensions\n",
    "        if abs(mu0.shape[0] - C.shape[0]) + abs(mu1.shape[0] - C.shape[1]) >= 1:\n",
    "            print('dimension error')\n",
    "            print(f\"mu0 dimension: {mu0.shape}\")\n",
    "            print(f\"mu1 dimension: {mu1.shape}\")\n",
    "            print(f\"C dimension: {C.shape}\")\n",
    "            return None, None, None, None, None\n",
    "\n",
    "        # Compute Gibbs kernel\n",
    "        K = np.exp(-C / epsilon)\n",
    "\n",
    "        # Initialize dual variables\n",
    "        if uInit is not None:\n",
    "            u1 = np.reshape(uInit, (-1, 1))\n",
    "        else:\n",
    "            u1 = mu1.copy()\n",
    "\n",
    "        u0 = mu0.copy()\n",
    "        u0_old = np.ones_like(u0) * 100  # arbitrary large value\n",
    "        iteration_count = 0\n",
    "\n",
    "        # Sinkhorn's algorithm main loop\n",
    "        while np.linalg.norm(np.log(u0_old + 1e-16) - np.log(u0 + 1e-16)) > 1e-3 and iteration_count < 10000:\n",
    "            u0_old = u0.copy()\n",
    "            u0 = mu0 / (K @ u1)  # Element-wise division\n",
    "            u1 = mu1 / (K.T @ u0)  # Element-wise division, K.T is transpose\n",
    "            iteration_count += 1\n",
    "\n",
    "        # Compute optimal transport plan\n",
    "        # Create diagonal matrices from vectors\n",
    "        diag_u0 = np.diag(u0.flatten())\n",
    "        diag_u1 = np.diag(u1.flatten())\n",
    "        M = diag_u0 @ K @ diag_u1\n",
    "\n",
    "        # Calculate transport cost\n",
    "        transport_cost = np.sum(M * C)  # Element-wise product\n",
    "\n",
    "        # Calculate regularization cost\n",
    "        M_flat = M.flatten()\n",
    "        # Add small constant to avoid log(0)\n",
    "        log_M = np.log(M_flat + 1e-16)\n",
    "        EE = M_flat * log_M\n",
    "\n",
    "        # Filter out NaN values (which might occur from log(0))\n",
    "        valid_indices = ~np.isnan(EE)\n",
    "        reg_cost = np.sum(EE[valid_indices])\n",
    "\n",
    "        return transport_cost, reg_cost, M, iteration_count, u1\n",
    "    \n",
    "    def optimal_transport_cost(self, Y_prop, Y_next, vvs_t, epsilon, method='sinkhorn'):\n",
    "        \"\"\"\n",
    "        Compute optimal transport cost between propagated and next time point, weighted by vvs.\n",
    "\n",
    "        Parameters:\n",
    "        -----------\n",
    "        Y_prop : numpy array\n",
    "            Propagated gene expression matrix\n",
    "        Y_next : numpy array\n",
    "            Gene expression matrix at next time point\n",
    "        vvs_t : numpy array\n",
    "            Variance weights for the current transition\n",
    "        epsilon : float\n",
    "            Entropy regularization parameter\n",
    "\n",
    "        Returns:\n",
    "        --------\n",
    "        transport_cost : float\n",
    "            Optimal transport cost\n",
    "        transport_plan : numpy array\n",
    "            Optimal transport plan\n",
    "        \"\"\"\n",
    "\n",
    "        # Compute weighted cost matrix\n",
    "        # Apply vvs_t element-wise to scale the gene expressions\n",
    "        Y_prop_weighted = vvs_t[:, None] * Y_prop  # Reshape vvs_t to (G, 1) for broadcasting\n",
    "        Y_next_weighted = vvs_t[:, None] * Y_next  # Reshape vvs_t to (G, 1) for broadcasting\n",
    "\n",
    "        # Compute cost matrix as squared Euclidean distance\n",
    "        cost_matrix = ot.dist(Y_prop_weighted.T, Y_next_weighted.T)\n",
    "\n",
    "        # Uniform weights\n",
    "        a = np.ones(Y_prop.shape[1]) / Y_prop.shape[1]\n",
    "        b = np.ones(Y_next.shape[1]) / Y_next.shape[1]\n",
    "        \n",
    "#         \n",
    "#         # Solve optimal transport problem by skinhorn\n",
    "#         transport_plan = ot.sinkhorn(a, b, cost_matrix, epsilon, method=method)\n",
    "\n",
    "#         # Compute transport cost\n",
    "#         transport_cost = np.sum(transport_plan * cost_matrix)\n",
    "        transport_cost, _, transport_plan, _,_ = self.OTsolver_MATLABCODE(a, b, cost_matrix, epsilon)\n",
    "        return transport_cost, transport_plan\n",
    "    \n",
    "    def _estimate_derivatives(self, Y_list, transport_plans, vvs):\n",
    "        \"\"\"\n",
    "        Estimate cell derivatives using transport plans, weighted by vvs.\n",
    "        \n",
    "        Parameters:\n",
    "        -----------\n",
    "        Y_list : list of numpy arrays\n",
    "            Gene expression matrices at different time points\n",
    "        transport_plans : list of numpy arrays\n",
    "            Optimal transport plans between consecutive time points\n",
    "        vvs : numpy array\n",
    "            Variance weights\n",
    "        \n",
    "        Returns:\n",
    "        --------\n",
    "        Z : numpy array\n",
    "            Estimated derivatives\n",
    "        \"\"\"\n",
    "        \n",
    "        Z = []\n",
    "        for k in range(len(Y_list) - 1):\n",
    "            Y_k = Y_list[k]\n",
    "            Y_next = Y_list[k+1]\n",
    "            M_k = transport_plans[k]\n",
    "            delta_t = 1.0  # Assuming uniform time steps\n",
    "            \n",
    "            # Compute target points\n",
    "            target_points = Y_next @ M_k.T\n",
    "            \n",
    "            # Compute derivatives, weighted by vvs for the k-th transition\n",
    "            derivatives = (target_points - Y_k) / delta_t\n",
    "            \n",
    "            # Apply vvs_k to scale the derivatives (optional, depending on intent)\n",
    "            vvs_k = vvs[:, k]  # Shape (n_genes,)\n",
    "            derivatives = vvs_k[:, None] * derivatives  # Element-wise scaling\n",
    "            Z.append(derivatives)\n",
    "        \n",
    "        return np.hstack(Z)\n",
    "    \n",
    "    def fit(self, Y_list, time_points=None):\n",
    "        \"\"\"\n",
    "        Fit GRIT model to single-cell time series data\n",
    "        \n",
    "        Parameters:\n",
    "        -----------\n",
    "        Y_list : list of numpy arrays\n",
    "            Gene expression matrices at different time points\n",
    "        time_points : array-like, optional\n",
    "            Time points corresponding to Y_list\n",
    "        \n",
    "        Returns:\n",
    "        --------\n",
    "        self : GRIT object\n",
    "        \"\"\"\n",
    "        # Get number of genes\n",
    "        n_genes = Y_list[0].shape[0]\n",
    "        self.ntime = len(Y_list)\n",
    "        \n",
    "        # Initialize A and b\n",
    "        self.A = np.ones((n_genes,n_genes)) \n",
    "        self.b = np.zeros(n_genes)\n",
    "        \n",
    "        # Compute variance weights\n",
    "        self.vvs = self._compute_variance_weights(Y_list)\n",
    "        \n",
    "        # Coordinate descent optimization\n",
    "        for iteration in range(self.max_iter):\n",
    "            transport_plans = []\n",
    "            total_transport_cost = 0\n",
    "            \n",
    "            # Compute transport plans\n",
    "            for k in range(self.ntime - 1):\n",
    "                Y_prop = (np.eye(n_genes) + self.A) @ Y_list[k] + self.b.reshape(-1, 1)\n",
    "                Y_next = Y_list[k+1]\n",
    "                \n",
    "                transport_cost, transport_plan = self.optimal_transport_cost(\n",
    "                    Y_prop, Y_next, self.vvs[:, k], self.epsilon, self.method)\n",
    "                transport_plan = transport_plan / transport_plan.sum(1,keepdims=True)\n",
    "                transport_plans.append(transport_plan)\n",
    "                total_transport_cost += transport_cost\n",
    "            transport_plans = np.array(transport_plans)\n",
    "#            print('Total cost', iteration, total_transport_cost)\n",
    "            \n",
    "            # Estimate derivatives\n",
    "            Z = self._estimate_derivatives(Y_list, transport_plans, self.vvs)\n",
    "            \n",
    "            # Solve row-wise regression\n",
    "            A_new = 0*np.eye(n_genes)\n",
    "            b_new = 0*np.ones(n_genes)\n",
    "            \n",
    "            # Solve row-wise regression\n",
    "            for i in range(n_genes):\n",
    "                # Construct augmented matrix\n",
    "                Y_list_concat = np.hstack(Y_list[:-1])\n",
    "                Y_augmented = np.vstack([Y_list_concat, np.ones(Y_list_concat.shape[1])])\n",
    "                \n",
    "                # Constructed regression\n",
    "                reg_term = np.eye(n_genes+1)\n",
    "                reg_term[:-1, :-1] *= self.lambda_A\n",
    "                reg_term[-1, -1] = self.lambda_b\n",
    "                \n",
    "                # Solve least squares with variance weighting\n",
    "                # Weight the derivatives and data by vvs for the i-th gene\n",
    "                vvs_weight = self.vvs[i, :]  # Variance weights for gene i across transitions\n",
    "                Z_weighted = Z[i, :] * np.repeat(vvs_weight,Y_list[0].shape[1])  # Weight the derivatives\n",
    "                vvs_augmented = np.vstack([self.vvs,np.ones(self.ntime-1)])\n",
    "                Y_augmented_weighted = Y_augmented * np.repeat(vvs_augmented,Y_list[0].shape[1],axis=1)  # Weight the design matrix\n",
    "                \n",
    "                X = Y_augmented_weighted.T\n",
    "                y = Z_weighted\n",
    "                solution = np.linalg.lstsq(X.T @ X + reg_term, X.T @ y, rcond=None)[0]\n",
    "                \n",
    "#                 print(i, Z[i, :] @  Y_augmented.T - (Y_augmented @ Y_augmented.T + reg_term) @ solution)\n",
    "                \n",
    "#                 # Solve Ridge regression\n",
    "#                 ridge = Ridge(alpha=self.lambda_b)  # Use lambda_b as the regularization strength\n",
    "#                 ridge.fit(Y_augmented.T, Z[i, :])  # Fit the model\n",
    "#                 solution = ridge.coef_\n",
    "#                 derivative = Y_augmented @ Z[i, :].T - solution @ (reg_term + Y_augmented @ Y_augmented.T)\n",
    "#                print(i,derivative)\n",
    "\n",
    "#                 # Use the algorithm from reference\n",
    "#                 solution = compute_regression_row(Z, Y_augmented, reg_term, i)\n",
    "    \n",
    "                # Collect results for A_new and b_new\n",
    "                A_new[i, :] = solution[:n_genes]\n",
    "                b_new[i] = solution[-1]\n",
    "\n",
    "            # update A and b\n",
    "            kappa = min(0.5 + 0.7 * iteration / self.max_iter, 1.0)\n",
    "            A_prev = self.A.copy()\n",
    "            b_prev = self.b.copy()\n",
    "            self.A = (1 - kappa) * A_prev + kappa * A_new\n",
    "            self.b = (1 - kappa) * b_prev + kappa * b_new\n",
    "            # Check for convergence\n",
    "            if iteration > 0:\n",
    "                A_diff = np.linalg.norm(self.A - A_prev)\n",
    "                b_diff = np.linalg.norm(self.b - b_prev)\n",
    "                if A_diff < 1e-6 and b_diff < 1e-6:\n",
    "                    print(f\"Converged after {iteration+1} iterations\")\n",
    "                    break\n",
    "            \n",
    "            if iteration % 5 == 0 or iteration == self.max_iter - 1:\n",
    "                print(f\"Iteration {iteration+1}/{self.max_iter}, Transport cost: {total_transport_cost:.4f}\")\n",
    "                \n",
    "        return self\n",
    "    \n",
    "    def predict_network(self, threshold=0.5):\n",
    "        \"\"\"\n",
    "        Predict gene regulatory network based on learned A matrix\n",
    "        \n",
    "        Parameters:\n",
    "        -----------\n",
    "        threshold : float, optional\n",
    "            Threshold for considering a regulatory link\n",
    "        \n",
    "        Returns:\n",
    "        --------\n",
    "        network : numpy array\n",
    "            Binary adjacency matrix representing the network\n",
    "        \"\"\"\n",
    "        network = np.abs(self.A) > threshold\n",
    "        return network.astype(int)"
   ]
  },
  {
   "cell_type": "code",
   "execution_count": 18,
   "id": "9b93cf29",
   "metadata": {
    "ExecuteTime": {
     "end_time": "2025-03-27T04:16:30.386803Z",
     "start_time": "2025-03-27T04:16:30.378350Z"
    },
    "code_folding": [
     0
    ]
   },
   "outputs": [],
   "source": [
    "def generate_discrete_time_system_data(A_true, b_true, x0, n_timepoints, n_cells, epsilon, shuffle=False):\n",
    "    \"\"\"\n",
    "    Generate synthetic data based on the discrete-time system equation\n",
    "    \n",
    "    Parameters:\n",
    "    -----------\n",
    "    A_true : numpy array\n",
    "        True system matrix\n",
    "    b_true : numpy array\n",
    "        True constant load vector\n",
    "    x0 : numpy array\n",
    "        Initial distribution mean\n",
    "    n_timepoints : int\n",
    "        Number of time points to generate\n",
    "    n_cells : int\n",
    "        Number of cells per time point\n",
    "    epsilon : float\n",
    "        Noise intensity\n",
    "    \n",
    "    Returns:\n",
    "    --------\n",
    "    Y_list : list of numpy arrays\n",
    "        Generated gene expression matrices at different time points\n",
    "    \"\"\"\n",
    "    n_genes = A_true.shape[0]\n",
    "    Y_list = []\n",
    "    \n",
    "    # Generate initial time point\n",
    "    x0_samples = np.random.multivariate_normal(x0, np.eye(n_genes), n_cells).T\n",
    "    Y_list.append(x0_samples)\n",
    "    \n",
    "    # Generate subsequent time points\n",
    "    for _ in range(1, n_timepoints):\n",
    "        prev_timepoint = Y_list[-1]\n",
    "        \n",
    "        # Propagate cells\n",
    "        noise = np.sqrt(epsilon) * np.random.randn(n_genes, n_cells)\n",
    "        next_timepoint = (np.eye(n_genes) + A_true) @ prev_timepoint + b_true.reshape(-1, 1) + noise\n",
    "        \n",
    "        Y_list.append(next_timepoint)\n",
    "        if shuffle:\n",
    "            np.random.shuffle(Y_list[-1].T) # shuffle cell id\n",
    "\n",
    "    \n",
    "    return Y_list"
   ]
  },
  {
   "cell_type": "markdown",
   "id": "ca2229f5",
   "metadata": {},
   "source": [
    "## TEST CASES"
   ]
  },
  {
   "cell_type": "code",
   "execution_count": 19,
   "id": "791c3af1",
   "metadata": {
    "ExecuteTime": {
     "end_time": "2025-03-27T04:16:32.228268Z",
     "start_time": "2025-03-27T04:16:32.129983Z"
    },
    "code_folding": [
     9,
     15,
     24
    ]
   },
   "outputs": [
    {
     "data": {
      "text/plain": [
       "Text(0, 0.5, 'Gene Value')"
      ]
     },
     "execution_count": 19,
     "metadata": {},
     "output_type": "execute_result"
    },
    {
     "data": {
      "image/png": "[encoded data removed]",
      "text/plain": [
       "<Figure size 640x480 with 1 Axes>"
      ]
     },
     "metadata": {},
     "output_type": "display_data"
    }
   ],
   "source": [
    "np.random.seed(42)\n",
    "    \n",
    "# Define system parameters\n",
    "n_genes = 5\n",
    "n_cells = 100\n",
    "n_timepoints = 100\n",
    "epsilon = 0.1\n",
    "\n",
    "# Create true system matrix A and constant load vector b\n",
    "A_true = 0.1*np.array([\n",
    "    [-0.5,  0.2,    0,    0,    0],\n",
    "    [ 0.1, -0.1,  0.3, -0.8,    0],\n",
    "    [   0,  0.1, -0.7,  0.2,    0],\n",
    "    [   0,  0.8,  0.2, -0.8,  0.1],\n",
    "    [   0,    0,    0,  0.1, -0.9]])\n",
    "#A_true = -0.3*np.eye(n_genes)\n",
    "#np.fill_diagonal(A_true[1:], -0.5)\n",
    "#np.fill_diagonal(A_true[3:], 0.1)\n",
    "b_true = 0*np.ones(n_genes)\n",
    "\n",
    "# Initial distribution mean\n",
    "x0 = np.random.random(n_genes)*5\n",
    "\n",
    "# Generate synthetic data\n",
    "Y_list = generate_discrete_time_system_data(\n",
    "    A_true, b_true, x0, n_timepoints, n_cells, epsilon, shuffle=True\n",
    ")\n",
    "plt.plot(np.mean(Y_list,2))\n",
    "plt.xlabel(\"Pseudo Time point\")\n",
    "plt.ylabel(\"Gene Value\")"
   ]
  },
  {
   "cell_type": "code",
   "execution_count": 20,
   "id": "98dc5c34",
   "metadata": {
    "ExecuteTime": {
     "end_time": "2025-03-27T04:16:35.731935Z",
     "start_time": "2025-03-27T04:16:32.735061Z"
    }
   },
   "outputs": [
    {
     "name": "stderr",
     "output_type": "stream",
     "text": [
      "/var/folders/4b/c12275gj0wnfbxszh_y34rd80000gp/T/ipykernel_84423/1665467204.py:124: RuntimeWarning: divide by zero encountered in divide\n",
      "  u0 = mu0 / (K @ u1)  # Element-wise division\n",
      "/var/folders/4b/c12275gj0wnfbxszh_y34rd80000gp/T/ipykernel_84423/1665467204.py:125: RuntimeWarning: invalid value encountered in matmul\n",
      "  u1 = mu1 / (K.T @ u0)  # Element-wise division, K.T is transpose\n",
      "/var/folders/4b/c12275gj0wnfbxszh_y34rd80000gp/T/ipykernel_84423/1665467204.py:124: RuntimeWarning: overflow encountered in divide\n",
      "  u0 = mu0 / (K @ u1)  # Element-wise division\n"
     ]
    },
    {
     "name": "stdout",
     "output_type": "stream",
     "text": [
      "Iteration 1/30, Transport cost: nan\n",
      "Iteration 6/30, Transport cost: nan\n",
      "Iteration 11/30, Transport cost: nan\n",
      "Iteration 16/30, Transport cost: nan\n",
      "Iteration 21/30, Transport cost: nan\n",
      "Iteration 26/30, Transport cost: nan\n",
      "Iteration 30/30, Transport cost: nan\n"
     ]
    }
   ],
   "source": [
    "# Initialize and fit GRIT\n",
    "grit = GRIT(lambda_A=0.001, lambda_b=0.001, epsilon=0.05, max_iter=30, method='sinkhorn')\n",
    "grit.fit(Y_list);"
   ]
  },
  {
   "cell_type": "code",
   "execution_count": 21,
   "id": "9e3e6251",
   "metadata": {
    "ExecuteTime": {
     "end_time": "2025-03-27T04:16:39.416376Z",
     "start_time": "2025-03-27T04:16:39.174461Z"
    },
    "scrolled": true
   },
   "outputs": [
    {
     "name": "stdout",
     "output_type": "stream",
     "text": [
      "True A matrix:\n",
      "[[-0.05  0.02  0.    0.    0.  ]\n",
      " [ 0.01 -0.01  0.03 -0.08  0.  ]\n",
      " [ 0.    0.01 -0.07  0.02  0.  ]\n",
      " [ 0.    0.08  0.02 -0.08  0.01]\n",
      " [ 0.    0.    0.    0.01 -0.09]]\n",
      "\n",
      "Relative difference of A:\n",
      "[[nan nan nan nan nan]\n",
      " [nan nan nan nan nan]\n",
      " [nan nan nan nan nan]\n",
      " [nan nan nan nan nan]\n",
      " [nan nan nan nan nan]]\n",
      "True b vector:\n",
      "[0. 0. 0. 0. 0.]\n",
      "\n",
      "Relative difference of b:\n",
      "[nan nan nan nan nan]\n"
     ]
    },
    {
     "data": {
      "image/png": "[encoded data removed]",
      "text/plain": [
       "<Figure size 1200x500 with 4 Axes>"
      ]
     },
     "metadata": {},
     "output_type": "display_data"
    }
   ],
   "source": [
    "# Compare true and estimated A matrices\n",
    "print(\"True A matrix:\")\n",
    "print(A_true)\n",
    "diff_A = np.abs(A_true  - grit.A)\n",
    "print(\"\\nRelative difference of A:\")\n",
    "print(diff_A / A_true)\n",
    "\n",
    "print(\"True b vector:\")\n",
    "print(b_true)\n",
    "diff_b = np.abs(b_true - grit.b)\n",
    "print(\"\\nRelative difference of b:\")\n",
    "print(diff_b / b_true)\n",
    "\n",
    "# Visualize the differences\n",
    "plt.figure(figsize=(12, 5))\n",
    "\n",
    "plt.subplot(1, 2, 1)\n",
    "plt.title(\"True A Matrix\")\n",
    "plt.imshow(A_true, cmap='coolwarm', interpolation='nearest',vmax=np.max(A_true),vmin=np.min(A_true))\n",
    "plt.colorbar()\n",
    "\n",
    "plt.subplot(1, 2, 2)\n",
    "plt.title(\"Estimated A Matrix\")\n",
    "plt.imshow(grit.A, cmap='coolwarm', interpolation='nearest',vmax=np.max(A_true),vmin=np.min(A_true))\n",
    "plt.colorbar()\n",
    "\n",
    "plt.tight_layout()\n",
    "plt.show()"
   ]
  },
  {
   "cell_type": "code",
   "execution_count": 12,
   "id": "8016cfd5",
   "metadata": {
    "ExecuteTime": {
     "end_time": "2025-03-19T15:05:39.996878Z",
     "start_time": "2025-03-19T15:05:39.991786Z"
    }
   },
   "outputs": [
    {
     "data": {
      "text/plain": [
       "array([ 0.00120084, -0.00099075, -0.00144239, -0.00106952,  0.00403746])"
      ]
     },
     "execution_count": 12,
     "metadata": {},
     "output_type": "execute_result"
    }
   ],
   "source": [
    "grit.b"
   ]
  },
  {
   "cell_type": "code",
   "execution_count": 42,
   "id": "0484c3c2",
   "metadata": {
    "ExecuteTime": {
     "end_time": "2025-03-16T17:01:02.595699Z",
     "start_time": "2025-03-16T17:01:02.585173Z"
    }
   },
   "outputs": [
    {
     "name": "stdout",
     "output_type": "stream",
     "text": [
      "[[1. 0. 0. 0. 0.]\n",
      " [1. 1. 0. 0. 0.]\n",
      " [0. 1. 1. 0. 0.]\n",
      " [0. 0. 1. 1. 0.]\n",
      " [0. 0. 0. 1. 1.]]\n"
     ]
    }
   ],
   "source": [
    "import numpy as np\n",
    "\n",
    "def create_modified_identity(n):\n",
    "    # Create an identity matrix of size n x n\n",
    "    matrix = np.eye(n)\n",
    "    \n",
    "    # Add 1 to the subdiagonal (elements just below the main diagonal)\n",
    "    np.fill_diagonal(matrix[1:], 1)\n",
    "    \n",
    "    return matrix\n",
    "\n",
    "# Example usage\n",
    "n = 5  # You can set n to any desired size\n",
    "modified_identity = create_modified_identity(n)\n",
    "print(modified_identity)"
   ]
  },
  {
   "cell_type": "markdown",
   "id": "cd5f50ed",
   "metadata": {},
   "source": [
    "1. start with A true and calculate J(A,b) in eq 3\n",
    "2. set A_true as initial condition and the algorithm should converge in 1 step. Compare J(A,b) with what you calculated \n",
    "3. change A a little to see if the algorithm is working \n",
    "\n",
    "number of particles goes to infinity and the error goes to zero and how fast. "
   ]
  },
  {
   "cell_type": "markdown",
   "id": "33e6d902",
   "metadata": {},
   "source": [
    "marginals are important and we can't get rid of that"
   ]
  },
  {
   "cell_type": "markdown",
   "id": "86bce41a",
   "metadata": {},
   "source": [
    "1. make sure the OT is working with/without entropic with far apart trajectories that the mathes are clear.\n",
    "2. test simple benchmark in the paper. Discrete dynsmics, norm of the error. \n",
    "3. BEELINE paper"
   ]
  }
 ],
 "metadata": {
  "kernelspec": {
   "display_name": "Python 3 (ipykernel)",
   "language": "python",
   "name": "python3"
  },
  "language_info": {
   "codemirror_mode": {
    "name": "ipython",
    "version": 3
   },
   "file_extension": ".py",
   "mimetype": "text/x-python",
   "name": "python",
   "nbconvert_exporter": "python",
   "pygments_lexer": "ipython3",
   "version": "3.11.5"
  },
  "toc": {
   "base_numbering": 1,
   "nav_menu": {},
   "number_sections": true,
   "sideBar": true,
   "skip_h1_title": false,
   "title_cell": "Table of Contents",
   "title_sidebar": "Contents",
   "toc_cell": false,
   "toc_position": {},
   "toc_section_display": true,
   "toc_window_display": false
  },
  "varInspector": {
   "cols": {
    "lenName": 16,
    "lenType": 16,
    "lenVar": 40
   },
   "kernels_config": {
    "python": {
     "delete_cmd_postfix": "",
     "delete_cmd_prefix": "del ",
     "library": "var_list.py",
     "varRefreshCmd": "print(var_dic_list())"
    },
    "r": {
     "delete_cmd_postfix": ") ",
     "delete_cmd_prefix": "rm(",
     "library": "var_list.r",
     "varRefreshCmd": "cat(var_dic_list()) "
    }
   },
   "types_to_exclude": [
    "module",
    "function",
    "builtin_function_or_method",
    "instance",
    "_Feature"
   ],
   "window_display": false
  }
 },
 "nbformat": 4,
 "nbformat_minor": 5
}
