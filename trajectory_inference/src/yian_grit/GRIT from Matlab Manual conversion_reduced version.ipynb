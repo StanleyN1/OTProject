{
 "cells": [
  {
   "cell_type": "markdown",
   "id": "2de7b50e",
   "metadata": {},
   "source": [
    "Already get rid of TFflags, set branch to 1 and also being able to do regression without b \n",
    "1. get rid of branches\n",
    "2. replace OT_solver with sinkhorn solver\n",
    " "
   ]
  },
  {
   "cell_type": "code",
   "execution_count": 1,
   "id": "8e7d5993",
   "metadata": {
    "ExecuteTime": {
     "end_time": "2025-03-30T22:01:08.856249Z",
     "start_time": "2025-03-30T22:01:07.368202Z"
    }
   },
   "outputs": [],
   "source": [
    "import os\n",
    "import numpy as np\n",
    "import pandas as pd\n",
    "import scipy.io as sio\n",
    "import matplotlib.pyplot as plt\n",
    "from scipy.sparse.linalg import svds\n",
    "import multiprocessing\n",
    "from functools import partial\n",
    "import warnings\n",
    "import ot\n",
    "import h5py"
   ]
  },
  {
   "cell_type": "markdown",
   "id": "62adf4a1",
   "metadata": {},
   "source": [
    "### OT Solver "
   ]
  },
  {
   "cell_type": "code",
   "execution_count": 4,
   "id": "d50bed68",
   "metadata": {
    "ExecuteTime": {
     "end_time": "2025-03-30T22:02:36.268660Z",
     "start_time": "2025-03-30T22:02:36.259472Z"
    }
   },
   "outputs": [],
   "source": [
    "def OTsolver_MATLABCODE(mu0, mu1, C, epsilon, uInit=None):\n",
    "        \"\"\"\n",
    "        Optimal Transport solver using Sinkhorn algorithm with entropic regularization.\n",
    "\n",
    "        Parameters:\n",
    "        -----------\n",
    "        mu0 : array_like\n",
    "            Source distribution (will be reshaped to column vector)\n",
    "        mu1 : array_like\n",
    "            Target distribution (will be reshaped to column vector)\n",
    "        C : array_like\n",
    "            Cost matrix\n",
    "        epsilon : float\n",
    "            Regularization parameter\n",
    "        uInit : array_like, optional\n",
    "            Initial value for dual variable u1\n",
    "\n",
    "        Returns:\n",
    "        --------\n",
    "        transport_cost : float\n",
    "            The optimal transport cost\n",
    "        reg_cost : float\n",
    "            The regularization cost\n",
    "        M : ndarray\n",
    "            The optimal transport plan (matrix)\n",
    "        iteration_count : int\n",
    "            Number of iterations needed\n",
    "        u1 : ndarray\n",
    "            Final dual variable\n",
    "        \"\"\"\n",
    "        # Reshape distributions to column vectors\n",
    "        mu0 = np.reshape(mu0, (-1, 1))\n",
    "        mu1 = np.reshape(mu1, (-1, 1))\n",
    "        \n",
    "\n",
    "        # Check dimensions\n",
    "        if abs(mu0.shape[0] - C.shape[0]) + abs(mu1.shape[0] - C.shape[1]) >= 1:\n",
    "            print('dimension error')\n",
    "            print(f\"mu0 dimension: {mu0.shape}\")\n",
    "            print(f\"mu1 dimension: {mu1.shape}\")\n",
    "            print(f\"C dimension: {C.shape}\")\n",
    "            return None, None, None, None, None\n",
    "\n",
    "        # Compute Gibbs kernel\n",
    "        K = np.exp(-C / epsilon)\n",
    "\n",
    "        # Initialize dual variables\n",
    "        if uInit is not None:\n",
    "            u1 = np.reshape(uInit, (-1, 1))\n",
    "        else:\n",
    "            u1 = mu1.copy()\n",
    "\n",
    "        u0 = mu0.copy()\n",
    "        u0_old = np.ones_like(u0) * 100  # arbitrary large value\n",
    "        iteration_count = 0\n",
    "\n",
    "        # Sinkhorn's algorithm main loop\n",
    "        while np.linalg.norm(np.log(u0_old + 1e-16) - np.log(u0 + 1e-16)) > 1e-3 and iteration_count < 10000:\n",
    "            u0_old = u0.copy()\n",
    "            u0 = mu0 / (K @ u1)  # Element-wise division\n",
    "            u1 = mu1 / (K.T @ u0)  # Element-wise division, K.T is transpose\n",
    "            iteration_count += 1\n",
    "\n",
    "        # Compute optimal transport plan\n",
    "        # Create diagonal matrices from vectors\n",
    "        diag_u0 = np.diag(u0.flatten())\n",
    "        diag_u1 = np.diag(u1.flatten())\n",
    "        M = diag_u0 @ K @ diag_u1\n",
    "\n",
    "        # Calculate transport cost\n",
    "        transport_cost = np.sum(M * C)  # Element-wise product\n",
    "\n",
    "        # Calculate regularization cost\n",
    "        M_flat = M.flatten()\n",
    "        # Add small constant to avoid log(0)\n",
    "        log_M = np.log(M_flat + 1e-16)\n",
    "        EE = M_flat * log_M\n",
    "\n",
    "        # Filter out NaN values (which might occur from log(0))\n",
    "        valid_indices = ~np.isnan(EE)\n",
    "        reg_cost = np.sum(EE[valid_indices])\n",
    "\n",
    "        return transport_cost, reg_cost, M, iteration_count, u1"
   ]
  },
  {
   "cell_type": "markdown",
   "id": "f7424e8c",
   "metadata": {},
   "source": [
    "### Read in data from h5 file"
   ]
  },
  {
   "cell_type": "code",
   "execution_count": 8,
   "id": "03f91c86",
   "metadata": {
    "ExecuteTime": {
     "end_time": "2025-03-30T22:01:55.127422Z",
     "start_time": "2025-03-30T22:01:55.121820Z"
    },
    "scrolled": true
   },
   "outputs": [],
   "source": [
    "# Open the HDF5 file\n",
    "def read_HDF5(data_dir):\n",
    "    with h5py.File(data_dir, 'r') as file:\n",
    "\n",
    "        # Read specific datasets\n",
    "        xs_data_group = file.get('xs_data')\n",
    "\n",
    "        xs_data = xs_data_group[:]\n",
    "        ts_data = file.get('ts_data')[:]\n",
    "\n",
    "        scdata = np.transpose(xs_data, (1,2, 0))\n",
    "\n",
    "        n_gene, n_cell, n_timepoint = scdata.shape\n",
    "\n",
    "        # Get time grid\n",
    "        Tgrid = ts_data\n",
    "\n",
    "        # print all attributes belongs to xs_data\n",
    "        # Access all attributes of xs_data\n",
    "        \n",
    "#         print(\"All attributes for xs_data:\")\n",
    "#         for attr_name, attr_value in xs_data_group.attrs.items():\n",
    "#             print(f\"  {attr_name}: {attr_value}\")\n",
    "\n",
    "        # Store all attributes in a dictionary for later use\n",
    "        xs_data_attrs = dict(xs_data_group.attrs)\n",
    "        \n",
    "        # List the names of all attributes\n",
    "        #attr_names = list(xs_data_attrs.keys())\n",
    "        #print(\"\\nAttribute names:\", attr_names)\n",
    "\n",
    "        # Print the number of attributes to verify there are nine\n",
    "        # print(f\"\\nNumber of attributes: {len(xs_data_attrs)}\")\n",
    "        return scdata, Tgrid"
   ]
  },
  {
   "cell_type": "code",
   "execution_count": 2,
   "id": "8408fab2",
   "metadata": {
    "ExecuteTime": {
     "end_time": "2025-03-30T22:01:11.438099Z",
     "start_time": "2025-03-30T22:01:11.414793Z"
    }
   },
   "outputs": [
    {
     "ename": "NameError",
     "evalue": "name 'scdata' is not defined",
     "output_type": "error",
     "traceback": [
      "\u001b[0;31m---------------------------------------------------------------------------\u001b[0m",
      "\u001b[0;31mNameError\u001b[0m                                 Traceback (most recent call last)",
      "Cell \u001b[0;32mIn[2], line 1\u001b[0m\n\u001b[0;32m----> 1\u001b[0m plt\u001b[38;5;241m.\u001b[39mplot(np\u001b[38;5;241m.\u001b[39mmean(scdata,\u001b[38;5;241m2\u001b[39m))\n\u001b[1;32m      2\u001b[0m plt\u001b[38;5;241m.\u001b[39mxlabel(\u001b[38;5;124m\"\u001b[39m\u001b[38;5;124mPseudo Time point\u001b[39m\u001b[38;5;124m\"\u001b[39m)\n\u001b[1;32m      3\u001b[0m plt\u001b[38;5;241m.\u001b[39mylabel(\u001b[38;5;124m\"\u001b[39m\u001b[38;5;124mGene Value\u001b[39m\u001b[38;5;124m\"\u001b[39m)\n",
      "\u001b[0;31mNameError\u001b[0m: name 'scdata' is not defined"
     ]
    }
   ],
   "source": [
    "plt.plot(np.mean(scdata,2))\n",
    "plt.xlabel(\"Pseudo Time point\")\n",
    "plt.ylabel(\"Gene Value\");"
   ]
  },
  {
   "cell_type": "markdown",
   "id": "32206892",
   "metadata": {
    "heading_collapsed": true
   },
   "source": [
    "### Read in data form CSV"
   ]
  },
  {
   "cell_type": "code",
   "execution_count": 6,
   "id": "907c2f0a",
   "metadata": {
    "ExecuteTime": {
     "end_time": "2025-03-29T21:02:09.380875Z",
     "start_time": "2025-03-29T21:02:09.370473Z"
    },
    "hidden": true
   },
   "outputs": [],
   "source": [
    "def read_synthetic_data(input_dir):\n",
    "    \"\"\"\n",
    "    Read synthetic data previously generated by SyntheticDataGeneration\n",
    "    \n",
    "    Parameters:\n",
    "    -----------\n",
    "    input_dir : str\n",
    "        Directory containing the CSV files and metadata\n",
    "    \n",
    "    Returns:\n",
    "    --------\n",
    "    scdata : list of numpy.ndarray\n",
    "        Loaded gene expression matrices at different time points\n",
    "        Each matrix has shape (n_genes, n_cells)\n",
    "    Tgrid : numpy.ndarray\n",
    "        Time points grid\n",
    "    A_true : numpy.ndarray\n",
    "        True system matrix used in data generation\n",
    "    b_true : numpy.ndarray\n",
    "        True constant load vector used in data generation\n",
    "    x0 : numpy.ndarray\n",
    "        Initial distribution mean used in data generation\n",
    "    metadata : dict\n",
    "        Additional metadata about the dataset\n",
    "    \"\"\"\n",
    "    # Load metadata\n",
    "    metadata_file = os.path.join(input_dir, 'metadata.mat')\n",
    "    if not os.path.exists(metadata_file):\n",
    "        raise FileNotFoundError(f\"Metadata file not found: {metadata_file}\")\n",
    "    \n",
    "    # Load .mat file\n",
    "    mat_data = sio.loadmat(metadata_file)\n",
    "    \n",
    "    # Extract variables\n",
    "    metadata = {\n",
    "        'n_genes': mat_data['metadata']['n_genes'][0, 0][0, 0],\n",
    "        'n_timepoints': mat_data['metadata']['n_timepoints'][0, 0][0, 0],\n",
    "        'n_cells': mat_data['metadata']['n_cells'][0, 0][0, 0],\n",
    "        'epsilon': mat_data['metadata']['epsilon'][0, 0][0, 0]\n",
    "    }\n",
    "    A_true = mat_data['A_true']\n",
    "    b_true = mat_data['b_true']\n",
    "    x0 = mat_data['x0']\n",
    "    Tgrid = mat_data['Tgrid'][0]  # Convert to 1D array\n",
    "    \n",
    "    n_timepoints = metadata['n_timepoints']\n",
    "    n_genes = metadata['n_genes']\n",
    "    \n",
    "    # Initialize list for scdata\n",
    "    scdata = []\n",
    "    \n",
    "    # Read each timepoint CSV file\n",
    "    for t in range(1, n_timepoints + 1):\n",
    "        filename = os.path.join(input_dir, f'timepoint_{t:03d}.csv')\n",
    "        \n",
    "        if not os.path.exists(filename):\n",
    "            raise FileNotFoundError(f\"Timepoint file not found: {filename}\")\n",
    "        \n",
    "        # Read CSV file\n",
    "        data_df = pd.read_csv(filename)\n",
    "        \n",
    "        # Convert DataFrame to numpy array and transpose to match MATLAB orientation\n",
    "        # (genes as rows, cells as columns)\n",
    "        data_matrix = data_df.values.T\n",
    "        \n",
    "        # Add to list\n",
    "        scdata.append(data_matrix)\n",
    "    \n",
    "    print(f\"Successfully loaded data from {input_dir}\")\n",
    "    \n",
    "    return scdata, Tgrid, A_true, b_true, x0, metadata"
   ]
  },
  {
   "cell_type": "code",
   "execution_count": 7,
   "id": "c2560559",
   "metadata": {
    "ExecuteTime": {
     "end_time": "2025-03-29T21:02:10.683300Z",
     "start_time": "2025-03-29T21:02:10.580805Z"
    },
    "hidden": true
   },
   "outputs": [
    {
     "name": "stdout",
     "output_type": "stream",
     "text": [
      "Successfully loaded data from /Users/yqian46/Library/Mobile Documents/com~apple~CloudDocs/PHD/Research/GRN/GRN Inference Code/Data\n",
      "\n",
      "Data summary:\n",
      "Number of timepoints: 30\n",
      "Number of genes: 2\n",
      "Number of cells: 50\n",
      "Time grid: [ 1  2  3  4  5  6  7  8  9 10 11 12 13 14 15 16 17 18 19 20 21 22 23 24\n",
      " 25 26 27 28 29 30]\n"
     ]
    }
   ],
   "source": [
    "input_dir = \"/Users/yqian46/Library/Mobile Documents/com~apple~CloudDocs/PHD/Research/GRN/GRN Inference Code/Data\"  # Replace with your directory path\n",
    "scdata, Tgrid, A_true, b_true, x0, metadata = read_synthetic_data(input_dir)\n",
    "\n",
    "# Verify the loaded data\n",
    "print(\"\\nData summary:\")\n",
    "print(f\"Number of timepoints: {len(scdata)}\")\n",
    "print(f\"Number of genes: {scdata[0].shape[0]}\")\n",
    "print(f\"Number of cells: {scdata[0].shape[1]}\")\n",
    "print(f\"Time grid: {Tgrid}\")"
   ]
  },
  {
   "cell_type": "markdown",
   "id": "2a6c368e",
   "metadata": {
    "heading_collapsed": true
   },
   "source": [
    "### Generate synthetic data"
   ]
  },
  {
   "cell_type": "code",
   "execution_count": 2,
   "id": "a3d4c7d4",
   "metadata": {
    "ExecuteTime": {
     "end_time": "2025-03-30T21:49:33.049818Z",
     "start_time": "2025-03-30T21:49:33.043663Z"
    },
    "code_folding": [
     0
    ],
    "hidden": true
   },
   "outputs": [],
   "source": [
    "def generate_discrete_time_system_data(A_true, b_true, x0, n_timepoints, dt, n_cells, epsilon, shuffle=False):\n",
    "    \"\"\"\n",
    "    Generate synthetic data based on the discrete-time system equation\n",
    "    \n",
    "    Parameters:\n",
    "    -----------\n",
    "    A_true : numpy array\n",
    "        True system matrix\n",
    "    b_true : numpy array\n",
    "        True constant load vector\n",
    "    x0 : numpy array\n",
    "        Initial distribution mean\n",
    "    n_timepoints : int\n",
    "        Number of time points to generate\n",
    "    n_cells : int\n",
    "        Number of cells per time point\n",
    "    epsilon : float\n",
    "        Noise intensity\n",
    "    \n",
    "    Returns:\n",
    "    --------\n",
    "    Y_list : list of numpy arrays\n",
    "        Generated gene expression matrices at different time points\n",
    "    \"\"\"\n",
    "    n_genes = A_true.shape[0]\n",
    "    Y_list = []\n",
    "    t_list = []\n",
    "    \n",
    "    # Generate initial time point\n",
    "    x0_samples = np.random.multivariate_normal(x0, np.eye(n_genes), n_cells).T\n",
    "    Y_list.append(x0_samples)\n",
    "    t_list.append(0)\n",
    "    \n",
    "    # Generate subsequent time points\n",
    "    for _ in range(1, n_timepoints):\n",
    "        prev_timepoint = Y_list[-1]\n",
    "        \n",
    "        # Propagate cells\n",
    "        noise = np.sqrt(epsilon) * np.random.randn(n_genes, n_cells)\n",
    "        next_timepoint = prev_timepoint + (A_true @ prev_timepoint + b_true.reshape(-1, 1) + noise) * dt\n",
    "        \n",
    "        Y_list.append(next_timepoint)\n",
    "        t_list.append(t_list[-1]+dt)\n",
    "        if shuffle:\n",
    "            np.random.shuffle(Y_list[-1].T) # shuffle cell id\n",
    "\n",
    "    \n",
    "    return Y_list, t_list"
   ]
  },
  {
   "cell_type": "code",
   "execution_count": null,
   "id": "c2253b38",
   "metadata": {
    "ExecuteTime": {
     "end_time": "2025-03-30T21:52:23.689985Z",
     "start_time": "2025-03-30T21:52:23.608409Z"
    },
    "hidden": true
   },
   "outputs": [
    {
     "name": "stdout",
     "output_type": "stream",
     "text": [
      "Eigenvalues of A are:  [0.+0.5j 0.-0.5j]\n"
     ]
    },
    {
     "data": {
      "image/png": "[encoded data removed]",
      "text/plain": [
       "<Figure size 640x480 with 1 Axes>"
      ]
     },
     "metadata": {},
     "output_type": "display_data"
    }
   ],
   "source": [
    "np.random.seed(42)\n",
    "    \n",
    "# Define system parameters\n",
    "n_genes = 2\n",
    "n_cells = 50\n",
    "n_timepoints = 30\n",
    "epsilon = 0.01\n",
    "dt = 0.1\n",
    "\n",
    "# Create true system matrix A and constant load vector b\n",
    "#A_true = -0.1*np.eye(n_genes)\n",
    "A_true = np.array([[0,-0.5],[0.5,0]])\n",
    "eig_val,_ = np.linalg.eig(A_true)\n",
    "print(\"Eigenvalues of A are: \",eig_val)\n",
    "b_true = 0*np.ones(n_genes)\n",
    "\n",
    "# Initial distribution mean\n",
    "x0 = np.random.random(n_genes)\n",
    "\n",
    "# Generate synthetic data\n",
    "scdata,Tgrid = generate_discrete_time_system_data(\n",
    "    A_true, b_true, x0, n_timepoints, dt, n_cells, epsilon\n",
    ")\n",
    "\n",
    "plt.plot(np.mean(scdata,2))\n",
    "plt.xlabel(\"Pseudo Time point\")\n",
    "plt.ylabel(\"Gene Value\");\n"
   ]
  },
  {
   "cell_type": "code",
   "execution_count": 4,
   "id": "218b02a9",
   "metadata": {},
   "outputs": [
    {
     "data": {
      "text/plain": [
       "array([[ 0. , -0.5],\n",
       "       [ 0.5,  0. ]])"
      ]
     },
     "execution_count": 4,
     "metadata": {},
     "output_type": "execute_result"
    }
   ],
   "source": [
    "A_true"
   ]
  },
  {
   "cell_type": "markdown",
   "id": "f412823e",
   "metadata": {},
   "source": [
    "### GRIT CODE"
   ]
  },
  {
   "cell_type": "markdown",
   "id": "5d686b1d",
   "metadata": {},
   "source": [
    "#### Main GRIT"
   ]
  },
  {
   "cell_type": "code",
   "execution_count": null,
   "id": "378fa2ed",
   "metadata": {
    "ExecuteTime": {
     "end_time": "2025-03-30T22:01:30.310783Z",
     "start_time": "2025-03-30T22:01:30.275865Z"
    },
    "code_folding": [
     32,
     51,
     76,
     88,
     111,
     119,
     138,
     143,
     144,
     146
    ]
   },
   "outputs": [],
   "source": [
    "## Inputs\n",
    "## Now we assuming all data comes from the same branch \n",
    "#TFflag = []\n",
    "\n",
    "def GRIT(scdata,Tgrid):\n",
    "    \"\"\"\n",
    "    Python implementation of GRITmodelSelect function for gene regulatory network inference\n",
    "\n",
    "    Parameters:\n",
    "    -----------\n",
    "    scdata : list of numpy arrays\n",
    "        Single-cell data for each time point\n",
    "    Tgrid : list or numpy array\n",
    "        Time points for the data\n",
    "    opts : dict, optional\n",
    "        Options for the algorithm\n",
    "    Returns:\n",
    "    --------\n",
    "    Gene regulatory matrix A and the transport maps\n",
    "    size of A is (n_genes, n_genes + 1)\n",
    "    \"\"\"\n",
    "\n",
    "\n",
    "    disp = 'basic'\n",
    "    epsilon = 0.01\n",
    "    iterations = 30\n",
    "    zeroWeight = 1\n",
    "    Nred = min(100, scdata[0].shape[0])\n",
    "\n",
    "    # Get dimensions\n",
    "    ndim = scdata[0].shape[0]  # Number of genes\n",
    "    nbr = 1\n",
    "\n",
    "    # Count cells in samples\n",
    "    ncell = np.zeros(len(scdata), dtype=int)\n",
    "    nzeros = 0\n",
    "    nelements = 0\n",
    "\n",
    "    # Process each time point\n",
    "    for jt in range(len(scdata)):\n",
    "        ncell[jt] = scdata[jt].shape[1]\n",
    "        nzeros += np.sum(scdata[jt] == 0)\n",
    "        nelements += scdata[jt].size\n",
    "\n",
    "    # Process time grid for Single experiment\n",
    "    Tgrid = np.array(Tgrid)\n",
    "    indtr = np.arange(len(scdata)-1)\n",
    "    indw = np.arange(sum(ncell[:-1]))\n",
    "    Ttot = max(Tgrid) - min(Tgrid)\n",
    "\n",
    "    # Check consistency\n",
    "    if len(Tgrid) != len(scdata):\n",
    "        raise ValueError(\"Time grid vector length does not match the data structure size\")\n",
    "\n",
    "    # at each time point, calculate variance for each gene over all cells\n",
    "    vvs = np.zeros((ndim, len(indtr)))\n",
    "    for jt in range(len(indtr)):\n",
    "        mtemp = np.mean(scdata[indtr[jt]+1], axis=1, keepdims=True) \n",
    "        mtemp[np.isnan(mtemp)] = 0\n",
    "        vvs[:, jt] += np.sum((scdata[indtr[jt]+1]- mtemp)**2, axis=1)\n",
    "        vvs[:, jt] = vvs[:, jt] / ncell[indtr[jt]+1] \n",
    "\n",
    "    # weight the vvs by number of cells in the previous time step \n",
    "    weighted_vvs = np.zeros_like(vvs)\n",
    "    for jt in range(len(indtr)):\n",
    "        weighted_vvs[:, jt] = ncell[indtr[jt]] * vvs[:, jt]\n",
    "\n",
    "    # final variance is \n",
    "    vvs = 0.5 + 0.2 * np.sum(weighted_vvs, axis=1, keepdims=True) / np.sum(ncell[indtr]) + 0.8 * vvs\n",
    "    vvs = vvs**(-0.5)\n",
    "\n",
    "    # Build regression matrices\n",
    "    XX = np.empty((ndim + nbr, 0))\n",
    "    #XX = np.empty((ndim, 0)) #change 1\n",
    "    DT = np.empty(0)\n",
    "\n",
    "    for jt in range(len(indtr)):\n",
    "        branch_padding = np.ones((1, ncell[indtr[jt]])) \n",
    "        data_with_branch = np.vstack([scdata[indtr[jt]],branch_padding]) #change 2\n",
    "        XX = np.hstack([XX, data_with_branch])\n",
    "        #data_at_jt = scdata[indtr[jt]]\n",
    "        #XX = np.hstack([XX, data_at_jt])\n",
    "\n",
    "        dt_values = (Tgrid[indtr[jt]+1] - Tgrid[indtr[jt]])**0.5 * np.ones(ncell[indtr[jt]])\n",
    "        DT = np.hstack([DT, dt_values])\n",
    "\n",
    "    YY = np.zeros((ndim, XX.shape[1]))\n",
    "\n",
    "    # Regularization weights\n",
    "    D = 0.01 * Ttot * np.diag(XX @ XX.T) / XX.shape[1]\n",
    "    D[-nbr:] = 10 * D[-nbr:] #change 3\n",
    "\n",
    "    #  Weight matrix for each cell, set to 1\n",
    "    WW = np.ones((ndim, sum(ncell)))\n",
    "\n",
    "    # Calculate correlations and dimension reduction\n",
    "    # Xc = XX[:ndim, :]\n",
    "    # indmiss = np.setdiff1d(np.arange(len(scdata)), indtr)\n",
    "    \n",
    "\n",
    "    # for im in indmiss:\n",
    "    #     Xc = np.hstack([Xc, scdata[im]])\n",
    "\n",
    "    # Xc = Xc - np.mean(Xc, axis=1, keepdims=True)\n",
    "\n",
    "\n",
    "    # nred = min(Nred, min(Xc.shape))\n",
    "\n",
    "    # perform SVD\n",
    "    # U, S, _ = np.linalg.svd(Xc, full_matrices=False)\n",
    "    # Ured = U[:, :nred]\n",
    "    # print(np.shape(Ured))\n",
    "    # S = S[:nred]\n",
    "    # indmiss = np.hstack([[0], indmiss])\n",
    "\n",
    "    # Scale XX by time differences\n",
    "    XX = DT * XX\n",
    "\n",
    "    A = np.zeros((ndim, ndim+nbr)) # change 4\n",
    "    #A = np.ones((ndim, ndim))\n",
    "    difs = np.zeros(iterations)\n",
    "    J = np.zeros(iterations)\n",
    "\n",
    "    uFin = [1] * len(indtr)\n",
    "    transportMap = [None] * len(scdata)\n",
    "\n",
    "    # Prepare for main iteration loop\n",
    "    convergenceProblemIndicator = [0] * len(indtr)\n",
    "    tMap = [None] * len(indtr)\n",
    "    Jadd = [0] * len(indtr)\n",
    "    its = [0] * len(indtr)\n",
    "    der = [None] * len(indtr)\n",
    "\n",
    "    # Main iterative loop\n",
    "    for jiter in range(iterations):\n",
    "        kreg = min(0.5 + 0.7 * (jiter+1) / iterations, 1)\n",
    "        Aold = A.copy()\n",
    "\n",
    "        # Process each transition\n",
    "        for jt in range(len(indtr)):\n",
    "            # Propagated and target points\n",
    "            # change 5\n",
    "            branch_padding = np.ones((1, ncell[indtr[jt]])) \n",
    "            X0 = scdata[indtr[jt]] + (Tgrid[indtr[jt]+1] - Tgrid[indtr[jt]]) * A @ np.vstack([scdata[indtr[jt]], branch_padding])\n",
    "            #X0 = scdata[indtr[jt]] + (Tgrid[indtr[jt]+1] - Tgrid[indtr[jt]]) * A @ scdata[indtr[jt]]\n",
    "            X1 = scdata[indtr[jt]+1]\n",
    "\n",
    "            # Cost matrix\n",
    "            ett0 = np.ones((X0.shape[1], 1))\n",
    "            ett1 = np.ones((X1.shape[1], 1))\n",
    "\n",
    "\n",
    "            vX0 = vvs[:, jt].reshape(-1, 1) * X0\n",
    "            vX1 = vvs[:, jt].reshape(-1, 1) * X1\n",
    "\n",
    "            # ignore svd\n",
    "            #UvX0 = Ured.T @ vX0\n",
    "            #UvX1 = Ured.T @ vX1\n",
    "\n",
    "            # ignore svd\n",
    "            UvX0 = vX0\n",
    "            UvX1 = vX1\n",
    "\n",
    "            sum_UvX0_squared = np.sum(UvX0**2, axis=0).reshape(-1, 1)\n",
    "            sum_UvX1_squared = np.sum(UvX1**2, axis=0)\n",
    "\n",
    "\n",
    "            C = sum_UvX0_squared @ ett1.T - 2 * UvX0.T @ UvX1 + ett0 @ sum_UvX1_squared.reshape(1, -1)\n",
    "\n",
    "            # only for same amount of cell in each time point\n",
    "            mu0 = np.ones(np.shape(X0)[1])/np.shape(X0)[1]\n",
    "            mu1 = np.ones(np.shape(X1)[1])/np.shape(X1)[1]\n",
    "\n",
    "            if jiter == 0:\n",
    "                uInit = mu1\n",
    "            else:\n",
    "                uInit = uFin[jt]\n",
    "\n",
    "            # Solve optimal transport problem\n",
    "            epsloc = epsilon\n",
    "            failInd = True\n",
    "            failedSinkhornIterations = -1\n",
    "\n",
    "            M = None\n",
    "            uFinal = None\n",
    "            transport_cost = 0\n",
    "            reg_cost = 0\n",
    "            iteration_count = 0\n",
    "\n",
    "            while failInd and failedSinkhornIterations < 10:\n",
    "                transport_cost, reg_cost, M, iteration_count, uFinal =  OTsolver_MATLABCODE(mu0, mu1, C, epsloc * np.median(C), uInit)\n",
    "                #transport_plan = ot.sinkhorn(a, b, cost_matrix, epsilon, method=method)\n",
    "\n",
    "                failInd = np.sum(np.isnan(M)) > 0\n",
    "                epsloc = 1.5 * epsloc\n",
    "                failedSinkhornIterations += 1\n",
    "\n",
    "            if jiter == iterations - 1 and failedSinkhornIterations > 0:\n",
    "                convergenceProblemIndicator[jt] = 1\n",
    "\n",
    "            tMap[jt] = M\n",
    "            uFin[jt] = uFinal\n",
    "            Jadd[jt] = transport_cost + epsilon * np.median(C) * reg_cost\n",
    "            its[jt] = iteration_count\n",
    "\n",
    "            M = M / np.sum(M, axis=1, keepdims=True)\n",
    "\n",
    "            # Estimate derivatives\n",
    "            ww_slice = WW[:, sum(ncell[:indtr[jt]]):sum(ncell[:indtr[jt]+1])]\n",
    "\n",
    "            M_product = ww_slice @ M\n",
    "            X1M = X1 @ M.T\n",
    "\n",
    "            der[jt] = ((X1M / M_product) - scdata[indtr[jt]]) / (Tgrid[indtr[jt]+1] - Tgrid[indtr[jt]])**0.5\n",
    "\n",
    "        # Collect derivatives\n",
    "        iaux = 0\n",
    "        for jt in range(len(indtr)):\n",
    "            YY[:, iaux:iaux + der[jt].shape[1]] = der[jt] # construct derivative\n",
    "            J[jiter] += Jadd[jt]\n",
    "            iaux += der[jt].shape[1]\n",
    "            transportMap[indtr[jt]] = tMap[jt]\n",
    "\n",
    "        # Solve for A using regression\n",
    "        Anew = np.zeros_like(A)\n",
    "\n",
    "        for jg in range(ndim):\n",
    "\n",
    "            WV = np.zeros(YY.shape[1])\n",
    "            iaux = 0\n",
    "            for jt in range(len(indtr)):\n",
    "                WV[iaux:iaux + ncell[indtr[jt]]] = vvs[jg, jt]**2\n",
    "                iaux += ncell[indtr[jt]]\n",
    "\n",
    "            # Weight matrices\n",
    "            W_diag = WV * WW[jg, indw]\n",
    "            #XX_TF = XX[TFloc, :]\n",
    "\n",
    "            # Weighted regression with regularization\n",
    "            #weighted_XX = XX_TF * W_diag\n",
    "            weighted_XX = XX * W_diag\n",
    "            weighted_YY = YY[jg, :] * W_diag\n",
    "\n",
    "            #reg_matrix = weighted_XX @ XX_TF.T + np.diag(D[TFloc])\n",
    "            reg_matrix = weighted_XX @ XX.T + np.diag(D)\n",
    "            #Anew[jg, TFloc] = weighted_YY @ XX_TF.T @ np.linalg.inv(reg_matrix)\n",
    "            Anew[jg, :] = weighted_YY @ XX.T @ np.linalg.inv(reg_matrix)\n",
    "\n",
    "\n",
    "\n",
    "        # Regularized update\n",
    "        A = (1 - kreg) * Aold + kreg * Anew\n",
    "\n",
    "        # Check progress\n",
    "        difs[jiter] = np.sqrt(np.sum((A - Aold)**2))\n",
    "\n",
    "        if disp == 'all':\n",
    "            print(f\"Iteration {jiter+1}/{iterations} done.\")\n",
    "\n",
    "    # Final A is the unregularized one\n",
    "    A = Anew\n",
    "\n",
    "    # Check for and report about convergence problems\n",
    "    # expnr = 0\n",
    "    # for jt in range(len(convergenceProblemIndicator)):\n",
    "    #     if convergenceProblemIndicator[jt] == 1:\n",
    "    #         if expnr == 0:\n",
    "    #             warnings.warn(\"Convergence problems detected and regularisation increased\")\n",
    "    #             print(\"Check the following matrices for outliers:\")\n",
    "\n",
    "    #         expnr = 1 + indtr[jt] - jt\n",
    "    #         tpnr = indtr[jt] - indmiss[expnr]\n",
    "    #         print(f\"* Experiment {expnr}, time points {tpnr} and {tpnr+1}\")\n",
    "\n",
    "\n",
    "    if disp != 'off':\n",
    "         print(\"Model identification complete.\")\n",
    "\n",
    "    #OUTPUT = [XX, YY, transportMap, J, A, D, WW, corNet, indw, indexp, TFflag, difs, out, opts]\n",
    "    return  A[:,:-1]"
   ]
  },
  {
   "cell_type": "code",
   "execution_count": 58,
   "id": "09319391",
   "metadata": {
    "ExecuteTime": {
     "end_time": "2025-03-30T17:56:50.256996Z",
     "start_time": "2025-03-30T17:56:50.251512Z"
    },
    "scrolled": true
   },
   "outputs": [
    {
     "name": "stdout",
     "output_type": "stream",
     "text": [
      "Model identification complete.\n",
      "[[-2.29671793e-02 -5.03239377e-01 -3.11967252e-04]\n",
      " [ 5.01582638e-01 -1.19189310e-02  1.07557062e-02]]\n"
     ]
    }
   ],
   "source": [
    "A = GRIT(scdata,Tgrid)\n",
    "print(A)"
   ]
  },
  {
   "cell_type": "code",
   "execution_count": 20,
   "id": "88905266",
   "metadata": {},
   "outputs": [
    {
     "name": "stdout",
     "output_type": "stream",
     "text": [
      "Model identification complete.\n"
     ]
    },
    {
     "data": {
      "text/plain": [
       "array([[-2.29671793e-02, -5.03239377e-01, -3.11967252e-04],\n",
       "       [ 5.01582638e-01, -1.19189310e-02,  1.07557062e-02]])"
      ]
     },
     "execution_count": 20,
     "metadata": {},
     "output_type": "execute_result"
    }
   ],
   "source": [
    "GRIT(scdata,Tgrid)"
   ]
  },
  {
   "cell_type": "markdown",
   "id": "1d11b8ed",
   "metadata": {},
   "source": [
    "### Save predicted A to h5 file"
   ]
  },
  {
   "cell_type": "code",
   "execution_count": null,
   "id": "cbb60e26",
   "metadata": {},
   "outputs": [],
   "source": []
  }
 ],
 "metadata": {
  "kernelspec": {
   "display_name": "base",
   "language": "python",
   "name": "python3"
  },
  "language_info": {
   "codemirror_mode": {
    "name": "ipython",
    "version": 3
   },
   "file_extension": ".py",
   "mimetype": "text/x-python",
   "name": "python",
   "nbconvert_exporter": "python",
   "pygments_lexer": "ipython3",
   "version": "3.11.5"
  },
  "toc": {
   "base_numbering": 1,
   "nav_menu": {},
   "number_sections": true,
   "sideBar": true,
   "skip_h1_title": false,
   "title_cell": "Table of Contents",
   "title_sidebar": "Contents",
   "toc_cell": false,
   "toc_position": {},
   "toc_section_display": true,
   "toc_window_display": false
  },
  "varInspector": {
   "cols": {
    "lenName": 16,
    "lenType": 16,
    "lenVar": 40
   },
   "kernels_config": {
    "python": {
     "delete_cmd_postfix": "",
     "delete_cmd_prefix": "del ",
     "library": "var_list.py",
     "varRefreshCmd": "print(var_dic_list())"
    },
    "r": {
     "delete_cmd_postfix": ") ",
     "delete_cmd_prefix": "rm(",
     "library": "var_list.r",
     "varRefreshCmd": "cat(var_dic_list()) "
    }
   },
   "position": {
    "height": "462.852px",
    "left": "1147px",
    "right": "20px",
    "top": "120px",
    "width": "345px"
   },
   "types_to_exclude": [
    "module",
    "function",
    "builtin_function_or_method",
    "instance",
    "_Feature"
   ],
   "window_display": false
  }
 },
 "nbformat": 4,
 "nbformat_minor": 5
}
